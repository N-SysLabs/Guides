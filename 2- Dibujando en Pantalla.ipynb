{
 "cells": [
  {
   "cell_type": "code",
   "execution_count": 2,
   "metadata": {},
   "outputs": [
    {
     "name": "stdout",
     "output_type": "stream",
     "text": [
      "pygame 1.9.6\n",
      "Hello from the pygame community. https://www.pygame.org/contribute.html\n"
     ]
    }
   ],
   "source": [
    "import pygame as pg\n",
    "import sys\n",
    "import time as T\n"
   ]
  },
  {
   "cell_type": "code",
   "execution_count": null,
   "metadata": {},
   "outputs": [],
   "source": [
    "pg.init()\n",
    "\n",
    "#Creamos la Ventana\n",
    "width, height = (1024,720) #Dimensiones de la Ventana\n",
    "screen = pg.display.set_mode ((width, height))\n",
    "\n",
    "#Definimos Colores\n",
    "Blk = (  0,   0,   0) #Negro\n",
    "Wht = (255, 255, 255) #Blanco\n",
    "Rd  = (255,   0,   0) #Rojo\n",
    "Gr  = (  0, 255,   0) #Verde\n",
    "Bl  = (  0,   0, 255) #Azul\n",
    "Gry = ( 25,  25,  25) #Gris casi Negro\n",
    "\n",
    "#Bucle Pricipal\n",
    "while True:\n",
    "    #_____ ZONA DE LOGICA\n",
    "    \n",
    "    #Creamos metodo de salida de la Ventana\n",
    "    for event in pg.event.get():\n",
    "        if event.type == pg.QUIT:\n",
    "            sys.exit()\n",
    "    \n",
    "   #______ \n",
    "    \n",
    "    #Coloreamos nuestra pantalla\n",
    "    screen.fill(Gry)\n",
    "    \n",
    "    #_____ ZONA DE DIBUJO\n",
    "    \n",
    "    pg.draw.rect (screen, Wht, (100,100, 80,80)) #Ejemplo de una cuadro\n",
    "    \n",
    "    #_____\n",
    "    \n",
    "    #Actualizamos La Pantalla\n",
    "    pg.display.flip()\n",
    "    T.sleep(0.5) #Tiempo para refrescar la pantalla."
   ]
  },
  {
   "cell_type": "code",
   "execution_count": null,
   "metadata": {},
   "outputs": [],
   "source": []
  }
 ],
 "metadata": {
  "kernelspec": {
   "display_name": "Python 3",
   "language": "python",
   "name": "python3"
  },
  "language_info": {
   "codemirror_mode": {
    "name": "ipython",
    "version": 3
   },
   "file_extension": ".py",
   "mimetype": "text/x-python",
   "name": "python",
   "nbconvert_exporter": "python",
   "pygments_lexer": "ipython3",
   "version": "3.8.3"
  }
 },
 "nbformat": 4,
 "nbformat_minor": 4
}
